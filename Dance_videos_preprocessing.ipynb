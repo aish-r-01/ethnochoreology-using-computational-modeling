{
  "nbformat": 4,
  "nbformat_minor": 0,
  "metadata": {
    "colab": {
      "provenance": [],
      "gpuType": "T4"
    },
    "kernelspec": {
      "name": "python3",
      "display_name": "Python 3"
    },
    "language_info": {
      "name": "python"
    },
    "accelerator": "GPU"
  },
  "cells": [
    {
      "cell_type": "code",
      "source": [
        "import os\n",
        "import cv2"
      ],
      "metadata": {
        "id": "38mnxN89FY3L"
      },
      "execution_count": 1,
      "outputs": []
    },
    {
      "cell_type": "code",
      "source": [
        "# load the video\n",
        "def load_video(video_path):\n",
        "    cap = cv2.VideoCapture(video_path)\n",
        "    if not cap.isOpened():\n",
        "        print(f\"Error: Could not open video {video_path}\")\n",
        "        return None\n",
        "    return cap"
      ],
      "metadata": {
        "id": "JbBd9Rof5I2b"
      },
      "execution_count": 2,
      "outputs": []
    },
    {
      "cell_type": "code",
      "source": [
        "# segment the video into sub-clips\n",
        "def segment_video(video_path, output_dir, segment_duration=5):\n",
        "    cap = load_video(video_path)\n",
        "    if cap is None:\n",
        "        return\n",
        "\n",
        "    fps = int(cap.get(cv2.CAP_PROP_FPS))\n",
        "    print(f\"FPS: {fps}\")\n",
        "    total_frames = int(cap.get(cv2.CAP_PROP_FRAME_COUNT))\n",
        "    print(f\"Total number of frames: {total_frames}\")\n",
        "    total_duration = total_frames / fps\n",
        "    segment_count = int(total_duration // segment_duration)\n",
        "\n",
        "    os.makedirs(output_dir, exist_ok=True)\n",
        "\n",
        "    for i in range(segment_count):\n",
        "        start_frame = i * segment_duration * fps\n",
        "        end_frame = start_frame + segment_duration * fps\n",
        "\n",
        "        cap.set(cv2.CAP_PROP_POS_FRAMES, start_frame)\n",
        "        output_file = os.path.join(output_dir, f\"sub_clip_{i+1}.mp4\")\n",
        "        out = cv2.VideoWriter(output_file, cv2.VideoWriter_fourcc(*'mp4v'), fps,\n",
        "                              (int(cap.get(3)), int(cap.get(4))))\n",
        "\n",
        "        for _ in range(int(segment_duration * fps)):\n",
        "            ret, frame = cap.read()\n",
        "            if ret and cap.get(cv2.CAP_PROP_POS_FRAMES) <= end_frame:\n",
        "                out.write(frame)\n",
        "            else:\n",
        "                break\n",
        "        out.release()\n",
        "\n",
        "    cap.release()\n",
        "    print(f\"Video segmented and saved in {output_dir}\")"
      ],
      "metadata": {
        "id": "M3W2wMPK5JV4"
      },
      "execution_count": 3,
      "outputs": []
    },
    {
      "cell_type": "code",
      "source": [
        "# extract frames from a sub-clip\n",
        "def extract_frames(sub_clip_path, output_dir, frame_interval=30):\n",
        "    cap = cv2.VideoCapture(sub_clip_path)\n",
        "    os.makedirs(output_dir, exist_ok=True)\n",
        "\n",
        "    frame_number = 0\n",
        "    while cap.isOpened():\n",
        "        ret, frame = cap.read()\n",
        "        if not ret:\n",
        "            break\n",
        "        if frame_number % frame_interval == 0:\n",
        "            frame_file = os.path.join(output_dir, f\"frame_{frame_number}.jpg\")\n",
        "            cv2.imwrite(frame_file, frame)\n",
        "        frame_number += 1\n",
        "    cap.release()"
      ],
      "metadata": {
        "id": "kvMMTaH55N9E"
      },
      "execution_count": 4,
      "outputs": []
    },
    {
      "cell_type": "code",
      "source": [
        "# preprocess the frame\n",
        "def preprocess_frame(frame, output_dir, size=(224, 224)):\n",
        "    # Resize the frame\n",
        "    resized_frame = cv2.resize(frame, size)\n",
        "\n",
        "    # Convert the frame to grayscale\n",
        "    grayscale_frame = cv2.cvtColor(resized_frame, cv2.COLOR_BGR2GRAY)\n",
        "\n",
        "    # Normalize the pixel values (0 to 1 scale)\n",
        "    normalized_frame = grayscale_frame / 255.0\n",
        "\n",
        "    # Apply Canny edge detection to highlight edges\n",
        "    edges = cv2.Canny((normalized_frame * 255).astype('uint8'), 100, 200)\n",
        "\n",
        "    # Save the processed frame (as normalized and edge-detected)\n",
        "    os.makedirs(output_dir, exist_ok=True)\n",
        "    normalized_output_file = os.path.join(output_dir, 'normalized_frame.jpg')\n",
        "    edges_output_file = os.path.join(output_dir, 'edges_frame.jpg')\n",
        "\n",
        "    cv2.imwrite(normalized_output_file, (normalized_frame * 255).astype('uint8'))\n",
        "    cv2.imwrite(edges_output_file, edges)"
      ],
      "metadata": {
        "id": "n_YfAwpZ5TBU"
      },
      "execution_count": 5,
      "outputs": []
    },
    {
      "cell_type": "code",
      "source": [
        "# Main automation function\n",
        "def process_all_videos(input_video_dir, output_base_dir, segment_duration=5, frame_interval=30):\n",
        "    video_files = [f for f in os.listdir(input_video_dir) if f.endswith('.mp4')]\n",
        "\n",
        "    for video_file in video_files:\n",
        "        video_path = os.path.join(input_video_dir, video_file)\n",
        "        print(f\"Processing video: {video_file}\")\n",
        "\n",
        "        # Segment the video\n",
        "        video_output_dir = os.path.join(output_base_dir, os.path.splitext(video_file)[0])\n",
        "        sub_clips_dir = os.path.join(video_output_dir, 'sub_clips')\n",
        "        segment_video(video_path, sub_clips_dir, segment_duration)\n",
        "\n",
        "        # Extract frames and preprocess them for each sub-clip\n",
        "        sub_clips = [f for f in os.listdir(sub_clips_dir) if f.endswith('.mp4')]\n",
        "        for sub_clip in sub_clips:\n",
        "            sub_clip_path = os.path.join(sub_clips_dir, sub_clip)\n",
        "            frames_output_dir = os.path.join(video_output_dir, os.path.splitext(sub_clip)[0], 'frames')\n",
        "            extract_frames(sub_clip_path, frames_output_dir, frame_interval)\n",
        "            for frame_file in os.listdir(frames_output_dir):\n",
        "                frame_path = os.path.join(frames_output_dir, frame_file)\n",
        "                frame = cv2.imread(frame_path)\n",
        "\n",
        "                # Ensure unique processed output directory\n",
        "                processed_output_dir = os.path.join(video_output_dir, os.path.splitext(sub_clip)[0], 'processed_frames')\n",
        "                os.makedirs(processed_output_dir, exist_ok=True)  # Ensures folder exists\n",
        "\n",
        "                # Process and save frames with unique names\n",
        "                processed_frame_path = os.path.join(processed_output_dir, f\"processed_{frame_file}\")\n",
        "                preprocess_frame(frame, processed_frame_path)\n",
        "\n",
        "\n",
        "        print(f\"Completed processing for {video_file}\")"
      ],
      "metadata": {
        "id": "IRXnJZYf5WX5"
      },
      "execution_count": 6,
      "outputs": []
    },
    {
      "cell_type": "code",
      "source": [
        "input_video_dir = '/content/drive/MyDrive/Trial video'\n",
        "output_base_dir = '/content/drive/MyDrive/processed_videos'  # Directory to save the processed output\n",
        "\n",
        "process_all_videos(input_video_dir, output_base_dir, segment_duration=5, frame_interval=30)"
      ],
      "metadata": {
        "id": "cJBrp8ZN5b0i",
        "colab": {
          "base_uri": "https://localhost:8080/"
        },
        "outputId": "6aaad7e0-89b6-4dbb-e6e2-eb3df09ea8f0"
      },
      "execution_count": 7,
      "outputs": [
        {
          "output_type": "stream",
          "name": "stdout",
          "text": [
            "Processing video: jathi.mp4\n",
            "FPS: 25\n",
            "Total number of frames: 1037\n",
            "Video segmented and saved in /content/drive/MyDrive/processed_videos/jathi/sub_clips\n",
            "Completed processing for jathi.mp4\n",
            "Processing video: padham.mp4\n",
            "FPS: 29\n",
            "Total number of frames: 1768\n",
            "Video segmented and saved in /content/drive/MyDrive/processed_videos/padham/sub_clips\n",
            "Completed processing for padham.mp4\n"
          ]
        }
      ]
    }
  ]
}